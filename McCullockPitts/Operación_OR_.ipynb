{
  "nbformat": 4,
  "nbformat_minor": 0,
  "metadata": {
    "colab": {
      "provenance": []
    },
    "kernelspec": {
      "name": "python3",
      "display_name": "Python 3"
    },
    "language_info": {
      "name": "python"
    }
  },
  "cells": [
    {
      "cell_type": "code",
      "execution_count": null,
      "metadata": {
        "id": "-4kGn-rx_HNc"
      },
      "outputs": [],
      "source": [
        "# Ejemplo con OR\n",
        "import numpy as np\n",
        "X = np.array([\n",
        "    [0, 0],\n",
        "    [0, 1],\n",
        "    [1, 0],\n",
        "    [1, 1]\n",
        "])\n",
        "Y = np.array([1, 1, 1, 0])\n",
        "W = [8, 10]\n",
        "umbral = 18"
      ]
    },
    {
      "cell_type": "markdown",
      "source": [
        "En estas lineas de codigo damos el # de entradas para perceptron (X), asi como tambien declaramos cuales son nuestras salidas (Y), seguido de esto agregamos los pesos para las entradas (W) y finalmente sacamos el umbral que es la sumatoria de los 2 pesos que declaramos en la linea de codigo."
      ],
      "metadata": {
        "id": "8eXAqTKgG_h1"
      }
    },
    {
      "cell_type": "code",
      "source": [
        "class McCullochPitts:\n",
        "  def __init__(self, weights, umbral):\n",
        "    self.weights = weights\n",
        "    self.umbral = umbral\n",
        "  def predict(self,X):\n",
        "      predictions =[]\n",
        "      for i in range(X.shape[0]):\n",
        "          weighted_sum = np.dot(self.weights, X[i])\n",
        "          print(f\"Input: {X[i]}, weighted sum: {weighted_sum}\")\n",
        "          if weighted_sum >= self.umbral:\n",
        "              predictions.append(1)\n",
        "          else:\n",
        "              predictions.append(0)\n",
        "      return predictions"
      ],
      "metadata": {
        "id": "1xgAtj_aAL9y"
      },
      "execution_count": null,
      "outputs": []
    },
    {
      "cell_type": "markdown",
      "source": [
        "Construimos la neurona McCullochPitts, despues pedimos que nos guarden las variables, seguido despues colocamos un weights que es el vector de pesos iniciales y el umbral es para usar en la funcion de activacion, en la linea de codigo tenemos predict(self,X) esta linea de codigo nos sirve para que calcule la salida de la neurona para cada fila. Despues calculamos la salida de la neurona para cada fila, despues en la linea de codigo (predictions) es la lista en donde se guardaran las salidas, en la linea de codigo donbde tenemos el (range) esta liena de codigo sirve para recorrer cada fila de las entradas.\n",
        "\n",
        "Calcularemos la suma w1*x1 + w2*x2, despues de calcular la suma se mostrara en consola la entrada y la suma, depsues mostrara la comparacion con el umbral y asi se determinara si la neurona se activa o no"
      ],
      "metadata": {
        "id": "niL0w0ivIqBx"
      }
    },
    {
      "cell_type": "code",
      "source": [
        "mcp = McCullochPitts(W, umbral)\n",
        "predictions =mcp.predict(X)\n",
        "print(\"Predictions:\", predictions)"
      ],
      "metadata": {
        "colab": {
          "base_uri": "https://localhost:8080/"
        },
        "id": "Noq0-lXuCOec",
        "outputId": "fe92dd44-7ec6-41b7-f644-f06a2739756d"
      },
      "execution_count": null,
      "outputs": [
        {
          "output_type": "stream",
          "name": "stdout",
          "text": [
            "Input: [0 0], weighted sum: 0\n",
            "Input: [0 1], weighted sum: 10\n",
            "Input: [1 0], weighted sum: 8\n",
            "Input: [1 1], weighted sum: 18\n",
            "Predictions: [0, 0, 0, 1]\n"
          ]
        }
      ]
    },
    {
      "cell_type": "markdown",
      "source": [
        "En estas ultimas lineas de codigo primero instanciamos la clase MCP, despues calcula las predicciones necesarias y para concluir nos mostrara el resultado final."
      ],
      "metadata": {
        "id": "hLy-LQLVMQG0"
      }
    }
  ]
}