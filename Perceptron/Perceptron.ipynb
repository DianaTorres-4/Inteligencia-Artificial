{
  "nbformat": 4,
  "nbformat_minor": 0,
  "metadata": {
    "colab": {
      "provenance": []
    },
    "kernelspec": {
      "name": "python3",
      "display_name": "Python 3"
    },
    "language_info": {
      "name": "python"
    }
  },
  "cells": [
    {
      "cell_type": "code",
      "execution_count": 1,
      "metadata": {
        "id": "9D0jGsiL-g5X"
      },
      "outputs": [],
      "source": [
        "class Perceptron:\n",
        "    def __init__(self, pesos, sesgo, tasa_de_aprendizaje):\n",
        "        self.pesos = pesos\n",
        "        self.sesgo = sesgo\n",
        "        self.tasa_de_aprendizaje = tasa_de_aprendizaje\n",
        "\n",
        "    def funcion_de_activacion(self, z):\n",
        "        if z >= 0:\n",
        "            return 1\n",
        "        else:\n",
        "            return 0\n",
        "\n",
        "    def entrenamiento(self, X, Y, epocas):\n",
        "        for epoca in range(epocas):\n",
        "              for dato in X:\n",
        "                X1, X2 = dato[0], dato[1]\n",
        "                W1 = self.pesos[0]\n",
        "                W2 = self.pesos[1]\n",
        "                B = self.sesgo\n",
        "                z = X1 * W1 + X2 * W2 + B\n",
        "                Y_pred = self.funcion_de_activacion(z)\n",
        "                indice = X. index(dato)\n",
        "                Y_real = Y[indice]\n",
        "                self.pesos[0] = W1 + self.tasa_de_aprendizaje * (Y_real - Y_pred) * X1\n",
        "                self.pesos[1] = W2 + self.tasa_de_aprendizaje * (Y_real - Y_pred) * X2\n",
        "                self.sesgo = B + self.tasa_de_aprendizaje * (Y_real - Y_pred)\n",
        "                print(f\"dato{dato}, prediccion{Y_pred}, pesos{self.pesos}, sesgo{self.sesgo},\")\n",
        "                print(f\"Fin de la epoca{epoca}\")"
      ]
    },
    {
      "cell_type": "markdown",
      "source": [
        "Primero constrimos nuestra clase o neurona llamada Perceptron, seguido de esto pedimos que nos guarde las variables, despues colocamos la variable pesos, sesgo y tasa de aprendizaje, despues definimos la funcion de activacion en donde decimos que si z es mayor o igual a 0 mostrar como resultado 1 de lo contrario mostar 0.Luego ingresaremos otras variables llamadas X,Y,epocas, a la variable epocas debemos de trabajar con un rango, despues ingresamos datos a nuestras variables que declaramos anteriormente en las lineas de codigo despues a nuestra variable z le pedimos que relalize la siguiente operacion X1*W1+X2*W2+B, donde X1 y X2 son los datos de [0,1], W1 y W2 son los pesos y B es el sesgo.Activamos la funcion de activacion z declararemos y agregamos una variable index este es un metodo de listas, despues pediremos que nos imprima el dato, la prediccion, los pesos, el sesgo y el fin de la epoca"
      ],
      "metadata": {
        "id": "hvdljqKRCOgb"
      }
    },
    {
      "cell_type": "code",
      "source": [
        "X=[[1,1],[1,0],[0,1],[0,0]]\n",
        "Y=[1,0,0,0]\n",
        "pesos=[2,3]\n",
        "sesgo=4\n",
        "tasa_de_aprendizaje=0.1"
      ],
      "metadata": {
        "id": "mPuFeDVLCPC1"
      },
      "execution_count": 2,
      "outputs": []
    },
    {
      "cell_type": "markdown",
      "source": [
        "En estas lineas de codigo damos el numero de entradas para X, asi como tambien damos a conocer cuales son nuestras saldias Y, damos valores a los pesos, al sesgo y a la tasa de aprendizaje"
      ],
      "metadata": {
        "id": "sJKo9DwRCtHz"
      }
    },
    {
      "cell_type": "code",
      "source": [
        "p=Perceptron(pesos,sesgo,tasa_de_aprendizaje)"
      ],
      "metadata": {
        "id": "PXliCsswCthu"
      },
      "execution_count": 3,
      "outputs": []
    },
    {
      "cell_type": "markdown",
      "source": [
        "En estas lineas de codigo primero instanciamos la clase p y decimos que dentro de esta clase estan los pesos, sesgo y la tasa de aprnedizaje que se vio anteriormente en el codigo anterior"
      ],
      "metadata": {
        "id": "SC2lvNVhDI6k"
      }
    },
    {
      "cell_type": "code",
      "source": [
        "p.entrenamiento(X,Y,20)"
      ],
      "metadata": {
        "colab": {
          "base_uri": "https://localhost:8080/"
        },
        "id": "nzOKcxFnDJXh",
        "outputId": "4aa7bdc9-ee8b-4108-b405-bf8a353f1d34"
      },
      "execution_count": 4,
      "outputs": [
        {
          "output_type": "stream",
          "name": "stdout",
          "text": [
            "dato[1, 1], prediccion1, pesos[2.0, 3.0], sesgo4.0,\n",
            "Fin de la epoca0\n",
            "dato[1, 0], prediccion1, pesos[1.9, 3.0], sesgo3.9,\n",
            "Fin de la epoca0\n",
            "dato[0, 1], prediccion1, pesos[1.9, 2.9], sesgo3.8,\n",
            "Fin de la epoca0\n",
            "dato[0, 0], prediccion1, pesos[1.9, 2.9], sesgo3.6999999999999997,\n",
            "Fin de la epoca0\n",
            "dato[1, 1], prediccion1, pesos[1.9, 2.9], sesgo3.6999999999999997,\n",
            "Fin de la epoca1\n",
            "dato[1, 0], prediccion1, pesos[1.7999999999999998, 2.9], sesgo3.5999999999999996,\n",
            "Fin de la epoca1\n",
            "dato[0, 1], prediccion1, pesos[1.7999999999999998, 2.8], sesgo3.4999999999999996,\n",
            "Fin de la epoca1\n",
            "dato[0, 0], prediccion1, pesos[1.7999999999999998, 2.8], sesgo3.3999999999999995,\n",
            "Fin de la epoca1\n",
            "dato[1, 1], prediccion1, pesos[1.7999999999999998, 2.8], sesgo3.3999999999999995,\n",
            "Fin de la epoca2\n",
            "dato[1, 0], prediccion1, pesos[1.6999999999999997, 2.8], sesgo3.2999999999999994,\n",
            "Fin de la epoca2\n",
            "dato[0, 1], prediccion1, pesos[1.6999999999999997, 2.6999999999999997], sesgo3.1999999999999993,\n",
            "Fin de la epoca2\n",
            "dato[0, 0], prediccion1, pesos[1.6999999999999997, 2.6999999999999997], sesgo3.099999999999999,\n",
            "Fin de la epoca2\n",
            "dato[1, 1], prediccion1, pesos[1.6999999999999997, 2.6999999999999997], sesgo3.099999999999999,\n",
            "Fin de la epoca3\n",
            "dato[1, 0], prediccion1, pesos[1.5999999999999996, 2.6999999999999997], sesgo2.999999999999999,\n",
            "Fin de la epoca3\n",
            "dato[0, 1], prediccion1, pesos[1.5999999999999996, 2.5999999999999996], sesgo2.899999999999999,\n",
            "Fin de la epoca3\n",
            "dato[0, 0], prediccion1, pesos[1.5999999999999996, 2.5999999999999996], sesgo2.799999999999999,\n",
            "Fin de la epoca3\n",
            "dato[1, 1], prediccion1, pesos[1.5999999999999996, 2.5999999999999996], sesgo2.799999999999999,\n",
            "Fin de la epoca4\n",
            "dato[1, 0], prediccion1, pesos[1.4999999999999996, 2.5999999999999996], sesgo2.699999999999999,\n",
            "Fin de la epoca4\n",
            "dato[0, 1], prediccion1, pesos[1.4999999999999996, 2.4999999999999996], sesgo2.5999999999999988,\n",
            "Fin de la epoca4\n",
            "dato[0, 0], prediccion1, pesos[1.4999999999999996, 2.4999999999999996], sesgo2.4999999999999987,\n",
            "Fin de la epoca4\n",
            "dato[1, 1], prediccion1, pesos[1.4999999999999996, 2.4999999999999996], sesgo2.4999999999999987,\n",
            "Fin de la epoca5\n",
            "dato[1, 0], prediccion1, pesos[1.3999999999999995, 2.4999999999999996], sesgo2.3999999999999986,\n",
            "Fin de la epoca5\n",
            "dato[0, 1], prediccion1, pesos[1.3999999999999995, 2.3999999999999995], sesgo2.2999999999999985,\n",
            "Fin de la epoca5\n",
            "dato[0, 0], prediccion1, pesos[1.3999999999999995, 2.3999999999999995], sesgo2.1999999999999984,\n",
            "Fin de la epoca5\n",
            "dato[1, 1], prediccion1, pesos[1.3999999999999995, 2.3999999999999995], sesgo2.1999999999999984,\n",
            "Fin de la epoca6\n",
            "dato[1, 0], prediccion1, pesos[1.2999999999999994, 2.3999999999999995], sesgo2.0999999999999983,\n",
            "Fin de la epoca6\n",
            "dato[0, 1], prediccion1, pesos[1.2999999999999994, 2.2999999999999994], sesgo1.9999999999999982,\n",
            "Fin de la epoca6\n",
            "dato[0, 0], prediccion1, pesos[1.2999999999999994, 2.2999999999999994], sesgo1.8999999999999981,\n",
            "Fin de la epoca6\n",
            "dato[1, 1], prediccion1, pesos[1.2999999999999994, 2.2999999999999994], sesgo1.8999999999999981,\n",
            "Fin de la epoca7\n",
            "dato[1, 0], prediccion1, pesos[1.1999999999999993, 2.2999999999999994], sesgo1.799999999999998,\n",
            "Fin de la epoca7\n",
            "dato[0, 1], prediccion1, pesos[1.1999999999999993, 2.1999999999999993], sesgo1.699999999999998,\n",
            "Fin de la epoca7\n",
            "dato[0, 0], prediccion1, pesos[1.1999999999999993, 2.1999999999999993], sesgo1.5999999999999979,\n",
            "Fin de la epoca7\n",
            "dato[1, 1], prediccion1, pesos[1.1999999999999993, 2.1999999999999993], sesgo1.5999999999999979,\n",
            "Fin de la epoca8\n",
            "dato[1, 0], prediccion1, pesos[1.0999999999999992, 2.1999999999999993], sesgo1.4999999999999978,\n",
            "Fin de la epoca8\n",
            "dato[0, 1], prediccion1, pesos[1.0999999999999992, 2.099999999999999], sesgo1.3999999999999977,\n",
            "Fin de la epoca8\n",
            "dato[0, 0], prediccion1, pesos[1.0999999999999992, 2.099999999999999], sesgo1.2999999999999976,\n",
            "Fin de la epoca8\n",
            "dato[1, 1], prediccion1, pesos[1.0999999999999992, 2.099999999999999], sesgo1.2999999999999976,\n",
            "Fin de la epoca9\n",
            "dato[1, 0], prediccion1, pesos[0.9999999999999992, 2.099999999999999], sesgo1.1999999999999975,\n",
            "Fin de la epoca9\n",
            "dato[0, 1], prediccion1, pesos[0.9999999999999992, 1.9999999999999991], sesgo1.0999999999999974,\n",
            "Fin de la epoca9\n",
            "dato[0, 0], prediccion1, pesos[0.9999999999999992, 1.9999999999999991], sesgo0.9999999999999974,\n",
            "Fin de la epoca9\n",
            "dato[1, 1], prediccion1, pesos[0.9999999999999992, 1.9999999999999991], sesgo0.9999999999999974,\n",
            "Fin de la epoca10\n",
            "dato[1, 0], prediccion1, pesos[0.8999999999999992, 1.9999999999999991], sesgo0.8999999999999975,\n",
            "Fin de la epoca10\n",
            "dato[0, 1], prediccion1, pesos[0.8999999999999992, 1.899999999999999], sesgo0.7999999999999975,\n",
            "Fin de la epoca10\n",
            "dato[0, 0], prediccion1, pesos[0.8999999999999992, 1.899999999999999], sesgo0.6999999999999975,\n",
            "Fin de la epoca10\n",
            "dato[1, 1], prediccion1, pesos[0.8999999999999992, 1.899999999999999], sesgo0.6999999999999975,\n",
            "Fin de la epoca11\n",
            "dato[1, 0], prediccion1, pesos[0.7999999999999993, 1.899999999999999], sesgo0.5999999999999975,\n",
            "Fin de la epoca11\n",
            "dato[0, 1], prediccion1, pesos[0.7999999999999993, 1.799999999999999], sesgo0.49999999999999756,\n",
            "Fin de la epoca11\n",
            "dato[0, 0], prediccion1, pesos[0.7999999999999993, 1.799999999999999], sesgo0.3999999999999976,\n",
            "Fin de la epoca11\n",
            "dato[1, 1], prediccion1, pesos[0.7999999999999993, 1.799999999999999], sesgo0.3999999999999976,\n",
            "Fin de la epoca12\n",
            "dato[1, 0], prediccion1, pesos[0.6999999999999993, 1.799999999999999], sesgo0.2999999999999976,\n",
            "Fin de la epoca12\n",
            "dato[0, 1], prediccion1, pesos[0.6999999999999993, 1.6999999999999988], sesgo0.1999999999999976,\n",
            "Fin de la epoca12\n",
            "dato[0, 0], prediccion1, pesos[0.6999999999999993, 1.6999999999999988], sesgo0.09999999999999759,\n",
            "Fin de la epoca12\n",
            "dato[1, 1], prediccion1, pesos[0.6999999999999993, 1.6999999999999988], sesgo0.09999999999999759,\n",
            "Fin de la epoca13\n",
            "dato[1, 0], prediccion1, pesos[0.5999999999999993, 1.6999999999999988], sesgo-2.4147350785597155e-15,\n",
            "Fin de la epoca13\n",
            "dato[0, 1], prediccion1, pesos[0.5999999999999993, 1.5999999999999988], sesgo-0.10000000000000242,\n",
            "Fin de la epoca13\n",
            "dato[0, 0], prediccion0, pesos[0.5999999999999993, 1.5999999999999988], sesgo-0.10000000000000242,\n",
            "Fin de la epoca13\n",
            "dato[1, 1], prediccion1, pesos[0.5999999999999993, 1.5999999999999988], sesgo-0.10000000000000242,\n",
            "Fin de la epoca14\n",
            "dato[1, 0], prediccion1, pesos[0.49999999999999933, 1.5999999999999988], sesgo-0.20000000000000243,\n",
            "Fin de la epoca14\n",
            "dato[0, 1], prediccion1, pesos[0.49999999999999933, 1.4999999999999987], sesgo-0.30000000000000243,\n",
            "Fin de la epoca14\n",
            "dato[0, 0], prediccion0, pesos[0.49999999999999933, 1.4999999999999987], sesgo-0.30000000000000243,\n",
            "Fin de la epoca14\n",
            "dato[1, 1], prediccion1, pesos[0.49999999999999933, 1.4999999999999987], sesgo-0.30000000000000243,\n",
            "Fin de la epoca15\n",
            "dato[1, 0], prediccion1, pesos[0.39999999999999936, 1.4999999999999987], sesgo-0.40000000000000246,\n",
            "Fin de la epoca15\n",
            "dato[0, 1], prediccion1, pesos[0.39999999999999936, 1.3999999999999986], sesgo-0.5000000000000024,\n",
            "Fin de la epoca15\n",
            "dato[0, 0], prediccion0, pesos[0.39999999999999936, 1.3999999999999986], sesgo-0.5000000000000024,\n",
            "Fin de la epoca15\n",
            "dato[1, 1], prediccion1, pesos[0.39999999999999936, 1.3999999999999986], sesgo-0.5000000000000024,\n",
            "Fin de la epoca16\n",
            "dato[1, 0], prediccion0, pesos[0.39999999999999936, 1.3999999999999986], sesgo-0.5000000000000024,\n",
            "Fin de la epoca16\n",
            "dato[0, 1], prediccion1, pesos[0.39999999999999936, 1.2999999999999985], sesgo-0.6000000000000024,\n",
            "Fin de la epoca16\n",
            "dato[0, 0], prediccion0, pesos[0.39999999999999936, 1.2999999999999985], sesgo-0.6000000000000024,\n",
            "Fin de la epoca16\n",
            "dato[1, 1], prediccion1, pesos[0.39999999999999936, 1.2999999999999985], sesgo-0.6000000000000024,\n",
            "Fin de la epoca17\n",
            "dato[1, 0], prediccion0, pesos[0.39999999999999936, 1.2999999999999985], sesgo-0.6000000000000024,\n",
            "Fin de la epoca17\n",
            "dato[0, 1], prediccion1, pesos[0.39999999999999936, 1.1999999999999984], sesgo-0.7000000000000024,\n",
            "Fin de la epoca17\n",
            "dato[0, 0], prediccion0, pesos[0.39999999999999936, 1.1999999999999984], sesgo-0.7000000000000024,\n",
            "Fin de la epoca17\n",
            "dato[1, 1], prediccion1, pesos[0.39999999999999936, 1.1999999999999984], sesgo-0.7000000000000024,\n",
            "Fin de la epoca18\n",
            "dato[1, 0], prediccion0, pesos[0.39999999999999936, 1.1999999999999984], sesgo-0.7000000000000024,\n",
            "Fin de la epoca18\n",
            "dato[0, 1], prediccion1, pesos[0.39999999999999936, 1.0999999999999983], sesgo-0.8000000000000024,\n",
            "Fin de la epoca18\n",
            "dato[0, 0], prediccion0, pesos[0.39999999999999936, 1.0999999999999983], sesgo-0.8000000000000024,\n",
            "Fin de la epoca18\n",
            "dato[1, 1], prediccion1, pesos[0.39999999999999936, 1.0999999999999983], sesgo-0.8000000000000024,\n",
            "Fin de la epoca19\n",
            "dato[1, 0], prediccion0, pesos[0.39999999999999936, 1.0999999999999983], sesgo-0.8000000000000024,\n",
            "Fin de la epoca19\n",
            "dato[0, 1], prediccion1, pesos[0.39999999999999936, 0.9999999999999983], sesgo-0.9000000000000024,\n",
            "Fin de la epoca19\n",
            "dato[0, 0], prediccion0, pesos[0.39999999999999936, 0.9999999999999983], sesgo-0.9000000000000024,\n",
            "Fin de la epoca19\n"
          ]
        }
      ]
    },
    {
      "cell_type": "markdown",
      "source": [
        "Por ultimo en esta linea de codigo llamamos a la clase y le pedimos que nos haga la variable de etrenamiento(operaciones necesarias) y nos muestre cada una de las epocas, el numero de epocas pueden ser las que nosotras queramos que nos calcule y nos muestre los resultados."
      ],
      "metadata": {
        "id": "_N84vzBt5Mni"
      }
    }
  ]
}